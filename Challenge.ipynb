{
  "nbformat": 4,
  "nbformat_minor": 0,
  "metadata": {
    "colab": {
      "name": "Challenge.ipynb",
      "provenance": []
    },
    "kernelspec": {
      "name": "python3",
      "display_name": "Python 3"
    },
    "language_info": {
      "name": "python"
    }
  },
  "cells": [
    {
      "cell_type": "code",
      "metadata": {
        "id": "opEepKC167c9"
      },
      "source": [
        "class Board:\n",
        "  def __init__(self, n_rows, n_cols):\n",
        "    self.board = [n_rows,n_cols]\n",
        "    if n_rows < 1 or n_rows > 10 or n_cols < 1 or n_cols > 10 :\n",
        "      raise ValueError\n",
        "    \n",
        "    def __del__(self):\n",
        "        print('__del__', self.board)\n",
        "\n",
        "\n",
        "board = Board(4, 3)"
      ],
      "execution_count": 524,
      "outputs": []
    },
    {
      "cell_type": "code",
      "metadata": {
        "colab": {
          "base_uri": "https://localhost:8080/"
        },
        "id": "YYKn4leG7mcR",
        "outputId": "7266beb2-6f89-48be-8617-8546090d3148"
      },
      "source": [
        "board.board[0], board.board[1]"
      ],
      "execution_count": 525,
      "outputs": [
        {
          "output_type": "execute_result",
          "data": {
            "text/plain": [
              "(4, 3)"
            ]
          },
          "metadata": {
            "tags": []
          },
          "execution_count": 525
        }
      ]
    },
    {
      "cell_type": "code",
      "metadata": {
        "colab": {
          "base_uri": "https://localhost:8080/"
        },
        "id": "MNH4t889-Mc1",
        "outputId": "692c4d75-7506-48c9-dc04-24c37d55c507"
      },
      "source": [
        "len(board.board)"
      ],
      "execution_count": 526,
      "outputs": [
        {
          "output_type": "execute_result",
          "data": {
            "text/plain": [
              "2"
            ]
          },
          "metadata": {
            "tags": []
          },
          "execution_count": 526
        }
      ]
    },
    {
      "cell_type": "code",
      "metadata": {
        "id": "PFQG3Kt37ytX"
      },
      "source": [
        "class Snake:\n",
        "  def __init__(self, snake):\n",
        "    self.snake = snake\n",
        "    # 3 ≤ snake.length ≤ 7\n",
        "    # 0 ≤ snake[i][j] < board[j]\n",
        "    if len(snake)<3 or len(snake)>7 or not all(len(s)==2 for s in snake):\n",
        "      raise ValueError\n",
        "    def __del__(self):\n",
        "        print('__del__', self.snake)\n",
        "\n",
        "snake = Snake([[2,2], [3,2], [3,1], [3,0], [2,0], [1,0], [0,0]])"
      ],
      "execution_count": 527,
      "outputs": []
    },
    {
      "cell_type": "code",
      "metadata": {
        "id": "GNHHG9RXa5E_"
      },
      "source": [
        "board = [4,3]\n",
        "snake = [[2, 2], [3, 2], [3, 1], [3, 0], [2, 0], [1, 0], [0, 0]]\n",
        "depth = 3"
      ],
      "execution_count": 528,
      "outputs": []
    },
    {
      "cell_type": "code",
      "metadata": {
        "id": "G0PLvxxzbHMd"
      },
      "source": [
        "def available_moves(board, snake):\n",
        "    head = snake[0]\n",
        "    # up, down, left, right\n",
        "    movements = [[head[0], head[1]-1], [head[0], head[1]+1], [head[0]-1, head[1]], [head[0]+1, head[1]]]\n",
        "    # filter by board constrains\n",
        "    movements = list(filter(lambda m: (m[0] >= 0 and m[1] >=0) and (m[0] < board[0]) and (m[1] < board[1]), movements))\n",
        "    # filter by snake intersection contrains, we can discard the tail as it moves\n",
        "    movements = list(filter(lambda m: m not in snake[:-1], movements))\n",
        "    return movements"
      ],
      "execution_count": 529,
      "outputs": []
    },
    {
      "cell_type": "code",
      "metadata": {
        "id": "k7YMOSNUcHPz"
      },
      "source": [
        "moves = available_moves(board, snake)"
      ],
      "execution_count": 530,
      "outputs": []
    },
    {
      "cell_type": "code",
      "metadata": {
        "colab": {
          "base_uri": "https://localhost:8080/"
        },
        "id": "1uxHPSC0cJ4N",
        "outputId": "223228cd-097c-4e33-8394-3288a1306224"
      },
      "source": [
        "moves"
      ],
      "execution_count": 531,
      "outputs": [
        {
          "output_type": "execute_result",
          "data": {
            "text/plain": [
              "[[2, 1], [1, 2]]"
            ]
          },
          "metadata": {
            "tags": []
          },
          "execution_count": 531
        }
      ]
    },
    {
      "cell_type": "code",
      "metadata": {
        "colab": {
          "base_uri": "https://localhost:8080/"
        },
        "id": "CKvtdT0acKhh",
        "outputId": "dc681790-dfb9-47aa-ff8e-f48f6cfa9eae"
      },
      "source": [
        "snake"
      ],
      "execution_count": 532,
      "outputs": [
        {
          "output_type": "execute_result",
          "data": {
            "text/plain": [
              "[[2, 2], [3, 2], [3, 1], [3, 0], [2, 0], [1, 0], [0, 0]]"
            ]
          },
          "metadata": {
            "tags": []
          },
          "execution_count": 532
        }
      ]
    },
    {
      "cell_type": "code",
      "metadata": {
        "id": "XQ2kIl4EcK3r"
      },
      "source": [
        "updated_snake = [moves[0]] + snake[:-1]"
      ],
      "execution_count": 533,
      "outputs": []
    },
    {
      "cell_type": "code",
      "metadata": {
        "colab": {
          "base_uri": "https://localhost:8080/"
        },
        "id": "1BC2ZO30cMVP",
        "outputId": "cdec866f-d86b-497a-cbf0-b2d3da8126f2"
      },
      "source": [
        "updated_snake"
      ],
      "execution_count": 534,
      "outputs": [
        {
          "output_type": "execute_result",
          "data": {
            "text/plain": [
              "[[2, 1], [2, 2], [3, 2], [3, 1], [3, 0], [2, 0], [1, 0]]"
            ]
          },
          "metadata": {
            "tags": []
          },
          "execution_count": 534
        }
      ]
    },
    {
      "cell_type": "code",
      "metadata": {
        "id": "s4j8TUu7cPJw"
      },
      "source": [
        "def n_available_paths(board, snake, depth, res = 0):\n",
        "    if depth == 0:\n",
        "        return 1\n",
        "    \n",
        "    moves = available_moves(board.board, snake)\n",
        "    \n",
        "    if len(moves) == 0:\n",
        "        return 0\n",
        "    \n",
        "    up = n_available_paths(board, [moves[0]] + snake[:-1], depth-1) if len(moves) > 0 else 0 \n",
        "    down = n_available_paths(board, [moves[1]] + snake[:-1], depth-1) if len(moves) > 1 else 0 \n",
        "    left = n_available_paths(board, [moves[2]] + snake[:-1], depth-1) if len(moves) > 2 else 0 \n",
        "    right = n_available_paths(board, [moves[3]] + snake[:-1], depth-1) if len(moves) > 3 else 0 \n",
        "\n",
        "    return up + down + left + right\n"
      ],
      "execution_count": 535,
      "outputs": []
    },
    {
      "cell_type": "code",
      "metadata": {
        "colab": {
          "base_uri": "https://localhost:8080/"
        },
        "id": "Nly8kghNi99A",
        "outputId": "cedff34a-e143-4b07-e7c4-ec196076d4ff"
      },
      "source": [
        "board = Board(4, 3)\n",
        "snake = Snake([[2, 2], [3, 2], [3, 1], [3, 0], [2, 0], [1, 0], [0, 0]])\n",
        "depth = 3\n",
        "n_available_paths(board, snake.snake, depth)"
      ],
      "execution_count": 541,
      "outputs": [
        {
          "output_type": "execute_result",
          "data": {
            "text/plain": [
              "7"
            ]
          },
          "metadata": {
            "tags": []
          },
          "execution_count": 541
        }
      ]
    },
    {
      "cell_type": "markdown",
      "metadata": {
        "id": "oENgpuKNcTZs"
      },
      "source": [
        "## Test"
      ]
    },
    {
      "cell_type": "code",
      "metadata": {
        "id": "Yasnl-iAcVDk"
      },
      "source": [
        "board = Board(4, 3)\n",
        "snake = Snake([[2, 2], [3, 2], [3, 1], [3, 0], [2, 0], [1, 0], [0, 0]])\n",
        "depth = 3"
      ],
      "execution_count": 536,
      "outputs": []
    },
    {
      "cell_type": "code",
      "metadata": {
        "id": "CXbiSAhYcen1"
      },
      "source": [
        "assert n_available_paths(board, snake.snake, depth) == 7"
      ],
      "execution_count": 537,
      "outputs": []
    },
    {
      "cell_type": "code",
      "metadata": {
        "id": "4ktkkzRncgEH"
      },
      "source": [
        "board = Board(2,3)\n",
        "snake =  Snake([[0,2], [0,1], [0,0], [1,0], [1,1], [1,2]])\n",
        "depth = 10"
      ],
      "execution_count": 538,
      "outputs": []
    },
    {
      "cell_type": "code",
      "metadata": {
        "id": "9-W7CiN2chj6"
      },
      "source": [
        "assert n_available_paths(board, snake.snake, depth) == 1"
      ],
      "execution_count": 539,
      "outputs": []
    },
    {
      "cell_type": "code",
      "metadata": {
        "id": "uUjEQZsDcnkC"
      },
      "source": [
        "board = Board(10,10)\n",
        "snake = Snake([[5,5], [5,4], [4,4], [4,5]])\n",
        "depth = 4"
      ],
      "execution_count": 540,
      "outputs": []
    },
    {
      "cell_type": "code",
      "metadata": {
        "id": "4OeHRfDrcpG7"
      },
      "source": [
        "assert n_available_paths(board, snake.snake, depth) == 81"
      ],
      "execution_count": 498,
      "outputs": []
    },
    {
      "cell_type": "code",
      "metadata": {
        "id": "aPqI7ezOcrhC"
      },
      "source": [
        ""
      ],
      "execution_count": null,
      "outputs": []
    }
  ]
}